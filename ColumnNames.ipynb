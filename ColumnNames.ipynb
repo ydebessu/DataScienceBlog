{
 "cells": [
  {
   "cell_type": "markdown",
   "id": "e38b5fab",
   "metadata": {},
   "source": [
    "# Explore column names\n",
    "Explore each shema for the last five years of stackoverflow survey"
   ]
  },
  {
   "cell_type": "code",
   "execution_count": 53,
   "id": "a4b69fe1",
   "metadata": {},
   "outputs": [],
   "source": [
    "import numpy as np\n",
    "import pandas as pd\n"
   ]
  },
  {
   "cell_type": "markdown",
   "id": "247faf94",
   "metadata": {},
   "source": [
    "## Questions about programing languages"
   ]
  },
  {
   "cell_type": "code",
   "execution_count": 54,
   "id": "2394ecdf",
   "metadata": {
    "scrolled": true
   },
   "outputs": [
    {
     "data": {
      "text/plain": [
       "['YearsCodedJob',\n",
       " 'YearsCodedJobPast',\n",
       " 'HaveWorkedLanguage',\n",
       " 'WantWorkLanguage']"
      ]
     },
     "execution_count": 54,
     "metadata": {},
     "output_type": "execute_result"
    }
   ],
   "source": [
    "df = pd.read_csv('survey/stack-overflow-developer-survey-2017/survey_results_public.csv')\n",
    "list(df.keys()[df.keys().str.contains('Language|YearsCod')])"
   ]
  },
  {
   "cell_type": "code",
   "execution_count": 55,
   "id": "9a880ce5",
   "metadata": {},
   "outputs": [
    {
     "name": "stderr",
     "output_type": "stream",
     "text": [
      "C:\\Users\\debessuyg\\Miniconda3\\envs\\myenv\\lib\\site-packages\\IPython\\core\\interactiveshell.py:3444: DtypeWarning: Columns (8,12,13,14,15,16,50,51,52,53,55,56,57,58,59,60,61,62,63,64,65,66,67,68,69,70,71,72,73,74,75,76,77,78,79,80,81,82,83,84,85,93,94,95,96,97,98,99,100,101,102,103,104,105,106,107,108,109,110,111,112,113,114,115,116,117,118,119,120,121,122,123,124,125,126,127,128) have mixed types.Specify dtype option on import or set low_memory=False.\n",
      "  exec(code_obj, self.user_global_ns, self.user_ns)\n"
     ]
    },
    {
     "data": {
      "text/plain": [
       "['YearsCoding',\n",
       " 'YearsCodingProf',\n",
       " 'LanguageWorkedWith',\n",
       " 'LanguageDesireNextYear']"
      ]
     },
     "execution_count": 55,
     "metadata": {},
     "output_type": "execute_result"
    }
   ],
   "source": [
    "df = pd.read_csv('survey/stack-overflow-developer-survey-2018/survey_results_public.csv')\n",
    "list(df.keys()[df.keys().str.contains('Language|YearsCod')])"
   ]
  },
  {
   "cell_type": "code",
   "execution_count": 56,
   "id": "b60222a6",
   "metadata": {},
   "outputs": [
    {
     "data": {
      "text/plain": [
       "['YearsCode', 'YearsCodePro', 'LanguageWorkedWith', 'LanguageDesireNextYear']"
      ]
     },
     "execution_count": 56,
     "metadata": {},
     "output_type": "execute_result"
    }
   ],
   "source": [
    "df = pd.read_csv('survey/stack-overflow-developer-survey-2019/survey_results_public.csv')\n",
    "list(df.keys()[df.keys().str.contains('Language|YearsCod')])"
   ]
  },
  {
   "cell_type": "code",
   "execution_count": 57,
   "id": "ca981bfd",
   "metadata": {},
   "outputs": [
    {
     "data": {
      "text/plain": [
       "['YearsCode', 'YearsCodePro', 'LanguageWorkedWith', 'LanguageDesireNextYear']"
      ]
     },
     "execution_count": 57,
     "metadata": {},
     "output_type": "execute_result"
    }
   ],
   "source": [
    "schema20 = pd.read_csv('survey/stack-overflow-developer-survey-2020/survey_results_schema.csv')\n",
    "list(df.keys()[df.keys().str.contains('Language|YearsCod')])"
   ]
  },
  {
   "cell_type": "code",
   "execution_count": 58,
   "id": "6c1c6b06",
   "metadata": {},
   "outputs": [
    {
     "data": {
      "text/plain": [
       "['YearsCode',\n",
       " 'YearsCodePro',\n",
       " 'LanguageHaveWorkedWith',\n",
       " 'LanguageWantToWorkWith']"
      ]
     },
     "execution_count": 58,
     "metadata": {},
     "output_type": "execute_result"
    }
   ],
   "source": [
    "df = pd.read_csv('survey/stack-overflow-developer-survey-2021/survey_results_public.csv')\n",
    "list(df.keys()[df.keys().str.contains('Language|YearsCod')])"
   ]
  },
  {
   "cell_type": "code",
   "execution_count": null,
   "id": "e0f02665",
   "metadata": {},
   "outputs": [],
   "source": []
  }
 ],
 "metadata": {
  "kernelspec": {
   "display_name": "Python 3 (ipykernel)",
   "language": "python",
   "name": "python3"
  },
  "language_info": {
   "codemirror_mode": {
    "name": "ipython",
    "version": 3
   },
   "file_extension": ".py",
   "mimetype": "text/x-python",
   "name": "python",
   "nbconvert_exporter": "python",
   "pygments_lexer": "ipython3",
   "version": "3.9.7"
  }
 },
 "nbformat": 4,
 "nbformat_minor": 5
}
