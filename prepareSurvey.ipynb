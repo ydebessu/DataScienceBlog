{
 "cells": [
  {
   "cell_type": "code",
   "execution_count": 2,
   "id": "8f5c42f8",
   "metadata": {},
   "outputs": [
    {
     "name": "stdout",
     "output_type": "stream",
     "text": [
      "Extracting in to :  ./survey/stack-overflow-developer-survey-2017\n",
      "Extracting in to :  ./survey/stack-overflow-developer-survey-2018\n",
      "Extracting in to :  ./survey/stack-overflow-developer-survey-2019\n",
      "Extracting in to :  ./survey/stack-overflow-developer-survey-2020\n",
      "Extracting in to :  ./survey/stack-overflow-developer-survey-2021\n"
     ]
    }
   ],
   "source": [
    "import zipfile\n",
    "import os\n",
    "for f in os.listdir(\"./survey\"):\n",
    "    file = \"./survey/{}\".format(f)\n",
    "    destination = file.split('.zip')[0]\n",
    "    if zipfile.is_zipfile(file): # if it is a zipfile, extract it\n",
    "        with zipfile.ZipFile(file) as item: # treat the file as a zip\n",
    "           print(\"Extracting in to : \", destination) \n",
    "           item.extractall(destination)  # extract it in the working directory"
   ]
  },
  {
   "cell_type": "code",
   "execution_count": null,
   "id": "4e1ef691",
   "metadata": {},
   "outputs": [],
   "source": []
  }
 ],
 "metadata": {
  "kernelspec": {
   "display_name": "Python 3 (ipykernel)",
   "language": "python",
   "name": "python3"
  },
  "language_info": {
   "codemirror_mode": {
    "name": "ipython",
    "version": 3
   },
   "file_extension": ".py",
   "mimetype": "text/x-python",
   "name": "python",
   "nbconvert_exporter": "python",
   "pygments_lexer": "ipython3",
   "version": "3.9.7"
  }
 },
 "nbformat": 4,
 "nbformat_minor": 5
}
