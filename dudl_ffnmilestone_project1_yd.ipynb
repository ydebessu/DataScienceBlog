{
  "cells": [
    {
      "cell_type": "markdown",
      "metadata": {
        "id": "view-in-github",
        "colab_type": "text"
      },
      "source": [
        "<a href=\"https://colab.research.google.com/github/ydebessu/DataScienceBlog/blob/main/dudl_ffnmilestone_project1_yd.ipynb\" target=\"_parent\"><img src=\"https://colab.research.google.com/assets/colab-badge.svg\" alt=\"Open In Colab\"/></a>"
      ]
    },
    {
      "cell_type": "code",
      "source": [
        "# PyTorch core\n",
        "import torch\n",
        "import torch.nn as nn\n",
        "import torch.nn.functional as F\n",
        "from torch.utils.data import DataLoader, TensorDataset\n",
        "from torch.optim import SGD\n",
        "from torch.nn import MSELoss\n",
        "\n",
        "# Scikit-learn utilities\n",
        "from sklearn.model_selection import train_test_split\n",
        "from sklearn.metrics import mean_squared_error\n",
        "\n",
        "# Plotting\n",
        "import matplotlib.pyplot as plt\n",
        "\n",
        "# Random integer generator\n",
        "import numpy as np"
      ],
      "metadata": {
        "id": "Se5OQHCwPSTR"
      },
      "execution_count": 14,
      "outputs": []
    },
    {
      "cell_type": "markdown",
      "source": [
        "**Data Preparation**"
      ],
      "metadata": {
        "id": "2RkKfH83SeRs"
      }
    },
    {
      "cell_type": "code",
      "source": [
        "# ==== PARAMETERS ====\n",
        "n_samples = 1000          # number of total data points\n",
        "low, high = -10, 10       # range for random integer features\n",
        "test_ratio = 0.2          # fraction of test data\n",
        "batch_size = 32           # batch size for DataLoader\n",
        "\n",
        "# ==== Generate synthetic data ====\n",
        "X1 = np.random.randint(low, high + 1, size=n_samples)\n",
        "X2 = np.random.randint(low, high + 1, size=n_samples)\n",
        "X = np.column_stack((X1, X2))\n",
        "y = X1 + X2\n",
        "\n",
        "# ==== Split data into train and test ====\n",
        "X_train, X_test, y_train, y_test = train_test_split(\n",
        "    X, y, test_size=test_ratio\n",
        ")\n",
        "\n",
        "# ==== Convert NumPy arrays to PyTorch tensors ====\n",
        "X_train_tensor = torch.tensor(X_train, dtype=torch.float32)\n",
        "y_train_tensor = torch.tensor(y_train, dtype=torch.float32).view(-1, 1)\n",
        "\n",
        "X_test_tensor = torch.tensor(X_test, dtype=torch.float32)\n",
        "y_test_tensor = torch.tensor(y_test, dtype=torch.float32).view(-1, 1)\n",
        "\n",
        "# ==== Create TensorDatasets ====\n",
        "train_ds = TensorDataset(X_train_tensor, y_train_tensor)\n",
        "test_ds = TensorDataset(X_test_tensor, y_test_tensor)\n",
        "\n",
        "# ==== Create DataLoaders ====\n",
        "train_dl = DataLoader(train_ds, batch_size=batch_size, shuffle=True, drop_last=True)\n",
        "test_dl = DataLoader(test_ds, batch_size=len(test_ds), shuffle=False)\n",
        "\n",
        "# ==== Quick sanity check ====\n",
        "print(f\"Train size: {len(train_ds)}, Test size: {len(test_ds)}\")\n",
        "for xb, yb in train_dl:\n",
        "    print(\"Batch X shape:\", xb.shape)\n",
        "    print(\"Batch y shape:\", yb.shape)\n",
        "    break\n",
        "\n"
      ],
      "metadata": {
        "colab": {
          "base_uri": "https://localhost:8080/"
        },
        "id": "_NUqMhvjSpvH",
        "outputId": "8f5ca872-e68a-4818-a32b-1f9cfcee16bd"
      },
      "execution_count": 15,
      "outputs": [
        {
          "output_type": "stream",
          "name": "stdout",
          "text": [
            "Train size: 800, Test size: 200\n",
            "Batch X shape: torch.Size([32, 2])\n",
            "Batch y shape: torch.Size([32, 1])\n"
          ]
        }
      ]
    },
    {
      "cell_type": "markdown",
      "source": [
        "**Define Model**"
      ],
      "metadata": {
        "id": "YVCaX-88XGtS"
      }
    },
    {
      "cell_type": "code",
      "source": [
        "# ==== Define Feedforward Neural Network ====\n",
        "class FeedForwardNN(nn.Module):\n",
        "    def __init__(self):\n",
        "        super(FeedForwardNN, self).__init__()\n",
        "        self.input = nn.Linear(2, 4)   # 2 inputs → 4 hidden nodes\n",
        "        self.output = nn.Linear(4, 1)  # 4 hidden → 1 output\n",
        "\n",
        "    def forward(self, x):\n",
        "        x = F.relu(self.input(x))      # hidden layer + ReLU activation\n",
        "        x = self.output(x)             # output layer (no activation for regression)\n",
        "        return x\n",
        "\n",
        "    def predict_int(self, x):\n",
        "        \"\"\"Use this method during evaluation/inference\"\"\"\n",
        "        with torch.no_grad():\n",
        "            x = self.forward(x)\n",
        "            return torch.round(x).int()\n",
        "\n",
        "\n",
        "# ==== Instantiate the model ====\n",
        "# model = FeedForwardNN()\n",
        "# print(model)"
      ],
      "metadata": {
        "id": "P2r5Pmg_XLQu"
      },
      "execution_count": 16,
      "outputs": []
    },
    {
      "cell_type": "markdown",
      "source": [
        "**Train Model**"
      ],
      "metadata": {
        "id": "5Y2sc8pQXWd5"
      }
    },
    {
      "cell_type": "code",
      "source": [
        "# ==== Generic Evaluation Function ====\n",
        "def evaluate(model, dataloader):\n",
        "    \"\"\"Evaluate model using integer-rounded predictions and count exact matches.\"\"\"\n",
        "    model.eval()\n",
        "    total, correct = 0, 0\n",
        "    preds_all, targets_all = [], []\n",
        "\n",
        "    with torch.no_grad():\n",
        "        for xb, yb in dataloader:\n",
        "            y_pred = model.predict_int(xb)\n",
        "            preds_all.append(y_pred)\n",
        "            targets_all.append(yb.int())\n",
        "            correct += (y_pred == yb.int()).sum().item()\n",
        "            total += yb.size(0)\n",
        "\n",
        "    preds = torch.cat(preds_all).view(-1)\n",
        "    targets = torch.cat(targets_all).view(-1)\n",
        "    mse = mean_squared_error(targets, preds)\n",
        "    acc = 100.0 * correct / total\n",
        "    return mse, acc\n",
        "\n",
        "\n",
        "# ==== Training Function ====\n",
        "def train_model(model, train_dl, epochs=50, lr=0.01):\n",
        "    \"\"\"Train model and return model + training performance (MSE & accuracy).\"\"\"\n",
        "    criterion = nn.MSELoss()\n",
        "    optimizer = SGD(model.parameters(), lr=lr)\n",
        "\n",
        "    for epoch in range(epochs):\n",
        "        for xb, yb in train_dl:\n",
        "            optimizer.zero_grad()\n",
        "            pred = model(xb)\n",
        "            loss = criterion(pred, yb)\n",
        "            loss.backward()\n",
        "            optimizer.step()\n",
        "\n",
        "        # Optional progress\n",
        "        # if (epoch + 1) % (epochs // 5) == 0:\n",
        "        #     train_mse, train_acc = evaluate(model, train_dl)\n",
        "        #     print(f\"Epoch [{epoch+1}/{epochs}] | Train MSE: {train_mse:.4f} | Train Acc: {train_acc:.2f}%\")\n",
        "\n",
        "    # Final metrics\n",
        "    train_mse, train_acc = evaluate(model, train_dl)\n",
        "    return model, train_mse, train_acc\n"
      ],
      "metadata": {
        "id": "LECnwRUwXcGc"
      },
      "execution_count": 19,
      "outputs": []
    },
    {
      "cell_type": "code",
      "source": [
        "# ==== Run experiment multiple times ====\n",
        "n_runs = 10\n",
        "for i in range(n_runs):\n",
        "    print(f\"\\n=== Run {i+1}/{n_runs} ===\")\n",
        "    model = FeedForwardNN()\n",
        "    trained_model, train_mse, train_acc = train_model(model, train_dl, epochs=10, lr=0.01)\n",
        "    test_mse, test_acc = evaluate(trained_model, test_dl)\n",
        "    print(f\"Train MSE: {train_mse:.4f} | Train Acc: {train_acc:.2f}% | Test MSE: {test_mse:.4f} | Test Acc: {test_acc:.2f}%\")"
      ],
      "metadata": {
        "colab": {
          "base_uri": "https://localhost:8080/"
        },
        "id": "dsB0WCu7flIp",
        "outputId": "e87f4079-0bcd-42ea-a192-1f1276c20013"
      },
      "execution_count": 20,
      "outputs": [
        {
          "output_type": "stream",
          "name": "stdout",
          "text": [
            "\n",
            "=== Run 1/10 ===\n",
            "Train MSE: 0.0000 | Train Acc: 100.00% | Test MSE: 0.0000 | Test Acc: 100.00%\n",
            "\n",
            "=== Run 2/10 ===\n",
            "Train MSE: 0.0425 | Train Acc: 95.75% | Test MSE: 0.0500 | Test Acc: 95.00%\n",
            "\n",
            "=== Run 3/10 ===\n",
            "Train MSE: 0.0000 | Train Acc: 100.00% | Test MSE: 0.0000 | Test Acc: 100.00%\n",
            "\n",
            "=== Run 4/10 ===\n",
            "Train MSE: 0.0000 | Train Acc: 100.00% | Test MSE: 0.0000 | Test Acc: 100.00%\n",
            "\n",
            "=== Run 5/10 ===\n",
            "Train MSE: 0.0000 | Train Acc: 100.00% | Test MSE: 0.0000 | Test Acc: 100.00%\n",
            "\n",
            "=== Run 6/10 ===\n",
            "Train MSE: 0.0000 | Train Acc: 100.00% | Test MSE: 0.0000 | Test Acc: 100.00%\n",
            "\n",
            "=== Run 7/10 ===\n",
            "Train MSE: 0.0000 | Train Acc: 100.00% | Test MSE: 0.0000 | Test Acc: 100.00%\n",
            "\n",
            "=== Run 8/10 ===\n",
            "Train MSE: 8.6550 | Train Acc: 20.75% | Test MSE: 8.8400 | Test Acc: 18.00%\n",
            "\n",
            "=== Run 9/10 ===\n",
            "Train MSE: 0.0000 | Train Acc: 100.00% | Test MSE: 0.0000 | Test Acc: 100.00%\n",
            "\n",
            "=== Run 10/10 ===\n",
            "Train MSE: 0.0000 | Train Acc: 100.00% | Test MSE: 0.0000 | Test Acc: 100.00%\n"
          ]
        }
      ]
    },
    {
      "cell_type": "code",
      "source": [
        "!pip install visualtorch"
      ],
      "metadata": {
        "colab": {
          "base_uri": "https://localhost:8080/"
        },
        "id": "aob8ReqFiR3n",
        "outputId": "832d5235-315a-4cff-dd07-3e04ad2de51b"
      },
      "execution_count": 26,
      "outputs": [
        {
          "output_type": "stream",
          "name": "stdout",
          "text": [
            "Collecting visualtorch\n",
            "  Downloading visualtorch-0.2.4-py3-none-any.whl.metadata (4.2 kB)\n",
            "Requirement already satisfied: pillow>=10.0.0 in /usr/local/lib/python3.12/dist-packages (from visualtorch) (11.3.0)\n",
            "Requirement already satisfied: numpy>=1.18.1 in /usr/local/lib/python3.12/dist-packages (from visualtorch) (2.0.2)\n",
            "Collecting aggdraw>=1.3.11 (from visualtorch)\n",
            "  Downloading aggdraw-1.3.19-cp312-cp312-manylinux_2_17_x86_64.manylinux2014_x86_64.whl.metadata (655 bytes)\n",
            "Requirement already satisfied: torch>=2.0.0 in /usr/local/lib/python3.12/dist-packages (from visualtorch) (2.8.0+cu126)\n",
            "Requirement already satisfied: filelock in /usr/local/lib/python3.12/dist-packages (from torch>=2.0.0->visualtorch) (3.20.0)\n",
            "Requirement already satisfied: typing-extensions>=4.10.0 in /usr/local/lib/python3.12/dist-packages (from torch>=2.0.0->visualtorch) (4.15.0)\n",
            "Requirement already satisfied: setuptools in /usr/local/lib/python3.12/dist-packages (from torch>=2.0.0->visualtorch) (75.2.0)\n",
            "Requirement already satisfied: sympy>=1.13.3 in /usr/local/lib/python3.12/dist-packages (from torch>=2.0.0->visualtorch) (1.13.3)\n",
            "Requirement already satisfied: networkx in /usr/local/lib/python3.12/dist-packages (from torch>=2.0.0->visualtorch) (3.5)\n",
            "Requirement already satisfied: jinja2 in /usr/local/lib/python3.12/dist-packages (from torch>=2.0.0->visualtorch) (3.1.6)\n",
            "Requirement already satisfied: fsspec in /usr/local/lib/python3.12/dist-packages (from torch>=2.0.0->visualtorch) (2025.3.0)\n",
            "Requirement already satisfied: nvidia-cuda-nvrtc-cu12==12.6.77 in /usr/local/lib/python3.12/dist-packages (from torch>=2.0.0->visualtorch) (12.6.77)\n",
            "Requirement already satisfied: nvidia-cuda-runtime-cu12==12.6.77 in /usr/local/lib/python3.12/dist-packages (from torch>=2.0.0->visualtorch) (12.6.77)\n",
            "Requirement already satisfied: nvidia-cuda-cupti-cu12==12.6.80 in /usr/local/lib/python3.12/dist-packages (from torch>=2.0.0->visualtorch) (12.6.80)\n",
            "Requirement already satisfied: nvidia-cudnn-cu12==9.10.2.21 in /usr/local/lib/python3.12/dist-packages (from torch>=2.0.0->visualtorch) (9.10.2.21)\n",
            "Requirement already satisfied: nvidia-cublas-cu12==12.6.4.1 in /usr/local/lib/python3.12/dist-packages (from torch>=2.0.0->visualtorch) (12.6.4.1)\n",
            "Requirement already satisfied: nvidia-cufft-cu12==11.3.0.4 in /usr/local/lib/python3.12/dist-packages (from torch>=2.0.0->visualtorch) (11.3.0.4)\n",
            "Requirement already satisfied: nvidia-curand-cu12==10.3.7.77 in /usr/local/lib/python3.12/dist-packages (from torch>=2.0.0->visualtorch) (10.3.7.77)\n",
            "Requirement already satisfied: nvidia-cusolver-cu12==11.7.1.2 in /usr/local/lib/python3.12/dist-packages (from torch>=2.0.0->visualtorch) (11.7.1.2)\n",
            "Requirement already satisfied: nvidia-cusparse-cu12==12.5.4.2 in /usr/local/lib/python3.12/dist-packages (from torch>=2.0.0->visualtorch) (12.5.4.2)\n",
            "Requirement already satisfied: nvidia-cusparselt-cu12==0.7.1 in /usr/local/lib/python3.12/dist-packages (from torch>=2.0.0->visualtorch) (0.7.1)\n",
            "Requirement already satisfied: nvidia-nccl-cu12==2.27.3 in /usr/local/lib/python3.12/dist-packages (from torch>=2.0.0->visualtorch) (2.27.3)\n",
            "Requirement already satisfied: nvidia-nvtx-cu12==12.6.77 in /usr/local/lib/python3.12/dist-packages (from torch>=2.0.0->visualtorch) (12.6.77)\n",
            "Requirement already satisfied: nvidia-nvjitlink-cu12==12.6.85 in /usr/local/lib/python3.12/dist-packages (from torch>=2.0.0->visualtorch) (12.6.85)\n",
            "Requirement already satisfied: nvidia-cufile-cu12==1.11.1.6 in /usr/local/lib/python3.12/dist-packages (from torch>=2.0.0->visualtorch) (1.11.1.6)\n",
            "Requirement already satisfied: triton==3.4.0 in /usr/local/lib/python3.12/dist-packages (from torch>=2.0.0->visualtorch) (3.4.0)\n",
            "Requirement already satisfied: mpmath<1.4,>=1.1.0 in /usr/local/lib/python3.12/dist-packages (from sympy>=1.13.3->torch>=2.0.0->visualtorch) (1.3.0)\n",
            "Requirement already satisfied: MarkupSafe>=2.0 in /usr/local/lib/python3.12/dist-packages (from jinja2->torch>=2.0.0->visualtorch) (3.0.3)\n",
            "Downloading visualtorch-0.2.4-py3-none-any.whl (19 kB)\n",
            "Downloading aggdraw-1.3.19-cp312-cp312-manylinux_2_17_x86_64.manylinux2014_x86_64.whl (1.0 MB)\n",
            "\u001b[2K   \u001b[90m━━━━━━━━━━━━━━━━━━━━━━━━━━━━━━━━━━━━━━━━\u001b[0m \u001b[32m1.0/1.0 MB\u001b[0m \u001b[31m14.8 MB/s\u001b[0m eta \u001b[36m0:00:00\u001b[0m\n",
            "\u001b[?25hInstalling collected packages: aggdraw, visualtorch\n",
            "Successfully installed aggdraw-1.3.19 visualtorch-0.2.4\n"
          ]
        }
      ]
    },
    {
      "cell_type": "code",
      "source": [
        "# Visualization of basic dense model\n",
        "import visualtorch\n",
        "input_shape = (1, 2)\n",
        "img = visualtorch.graph_view(model, input_shape)\n",
        "\n",
        "plt.axis(\"off\")\n",
        "plt.tight_layout()\n",
        "plt.imshow(img)\n",
        "plt.show()"
      ],
      "metadata": {
        "colab": {
          "base_uri": "https://localhost:8080/",
          "height": 264
        },
        "id": "cMGNqGCNf5E-",
        "outputId": "caf74c01-4fba-406c-f8ad-6eee5da1a61f"
      },
      "execution_count": 27,
      "outputs": [
        {
          "output_type": "display_data",
          "data": {
            "text/plain": [
              "<Figure size 640x480 with 1 Axes>"
            ],
            "image/png": "[encoded data removed]"
          },
          "metadata": {}
        }
      ]
    },
    {
      "cell_type": "code",
      "source": [],
      "metadata": {
        "id": "il68cANMf69d"
      },
      "execution_count": null,
      "outputs": []
    }
  ],
  "metadata": {
    "colab": {
      "provenance": [],
      "name": "dudl_ffnmilestone_project1_yd.ipynb",
      "include_colab_link": true
    },
    "kernelspec": {
      "display_name": "Python 3",
      "name": "python3"
    }
  },
  "nbformat": 4,
  "nbformat_minor": 0
}